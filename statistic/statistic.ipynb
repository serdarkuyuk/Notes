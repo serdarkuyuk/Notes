{
 "metadata": {
  "language_info": {
   "codemirror_mode": {
    "name": "ipython",
    "version": 3
   },
   "file_extension": ".py",
   "mimetype": "text/x-python",
   "name": "python",
   "nbconvert_exporter": "python",
   "pygments_lexer": "ipython3",
   "version": "3.9.1-final"
  },
  "orig_nbformat": 2,
  "kernelspec": {
   "name": "python3",
   "display_name": "Python 3.9.1 64-bit",
   "metadata": {
    "interpreter": {
     "hash": "1f3badd15024c32157114ba2220d2563bd5c52546c58b5347587a8ed5081412b"
    }
   }
  }
 },
 "nbformat": 4,
 "nbformat_minor": 2,
 "cells": [
  {
   "cell_type": "code",
   "execution_count": 5,
   "metadata": {},
   "outputs": [],
   "source": [
    "from scipy import stats\n",
    "import numpy as np\n",
    "np.random.seed(12345678)"
   ]
  },
  {
   "cell_type": "code",
   "execution_count": 25,
   "metadata": {},
   "outputs": [
    {
     "output_type": "stream",
     "name": "stdout",
     "text": [
      "(500,)\n6.524185391952782\n9.566618671448849\n"
     ]
    },
    {
     "output_type": "execute_result",
     "data": {
      "text/plain": [
       "(None, None, None)"
      ]
     },
     "metadata": {},
     "execution_count": 25
    }
   ],
   "source": [
    "rvs1 = stats.norm.rvs(loc=6,scale=10,size=500)\n",
    "print(rvs1.shape), print(np.mean(rvs1)), print(np.std(rvs1))"
   ]
  },
  {
   "cell_type": "code",
   "execution_count": 26,
   "metadata": {},
   "outputs": [
    {
     "output_type": "stream",
     "name": "stdout",
     "text": [
      "(500,)\n4.58742875703124\n10.040690103710698\n"
     ]
    },
    {
     "output_type": "execute_result",
     "data": {
      "text/plain": [
       "(None, None, None)"
      ]
     },
     "metadata": {},
     "execution_count": 26
    }
   ],
   "source": [
    "rvs2 = stats.norm.rvs(loc=5,scale=10,size=500)\n",
    "print(rvs2.shape), print(np.mean(rvs2)), print(np.std(rvs2))"
   ]
  },
  {
   "cell_type": "code",
   "execution_count": 27,
   "metadata": {},
   "outputs": [
    {
     "output_type": "execute_result",
     "data": {
      "text/plain": [
       "Ttest_indResult(statistic=3.1195749897926732, pvalue=0.0018630905504040118)"
      ]
     },
     "metadata": {},
     "execution_count": 27
    }
   ],
   "source": [
    "stats.ttest_ind(rvs1,rvs2)"
   ]
  },
  {
   "cell_type": "code",
   "execution_count": 28,
   "metadata": {},
   "outputs": [
    {
     "output_type": "execute_result",
     "data": {
      "text/plain": [
       "Ttest_indResult(statistic=3.1195749897926732, pvalue=0.0018632128940220033)"
      ]
     },
     "metadata": {},
     "execution_count": 28
    }
   ],
   "source": [
    "stats.ttest_ind(rvs1,rvs2, equal_var = False)"
   ]
  },
  {
   "cell_type": "code",
   "execution_count": null,
   "metadata": {},
   "outputs": [],
   "source": []
  }
 ]
}